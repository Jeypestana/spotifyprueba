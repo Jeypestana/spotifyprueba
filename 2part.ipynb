{
 "cells": [
  {
   "cell_type": "markdown",
   "metadata": {},
   "source": [
    "## Analisis Calidad de la data"
   ]
  },
  {
   "cell_type": "code",
   "execution_count": 10,
   "metadata": {},
   "outputs": [],
   "source": [
    "import pyspark\n",
    "from pyspark.sql.functions import *\n",
    "\n"
   ]
  },
  {
   "cell_type": "markdown",
   "metadata": {},
   "source": [
    "### Creamos la sesion spark y la inicializamos"
   ]
  },
  {
   "cell_type": "code",
   "execution_count": 2,
   "metadata": {},
   "outputs": [],
   "source": [
    "spark = pyspark.sql.SparkSession.builder.appName(\"quality\").getOrCreate()"
   ]
  },
  {
   "cell_type": "markdown",
   "metadata": {},
   "source": [
    "###  Carga de base de datos"
   ]
  },
  {
   "cell_type": "code",
   "execution_count": 3,
   "metadata": {},
   "outputs": [
    {
     "name": "stdout",
     "output_type": "stream",
     "text": [
      "+-----------+-----------+--------+------------+----------------+--------------------+--------------------+---------------------------+---------------------+------------------+-----------------------+-------------------+--------------------------+---------------------------+-------------------------------+-----------------------+----------------------+--------------------+--------------------+-----------------------------+------------------+------------+-----------------+--------------------+--------------------+------------------+------------------+\n",
      "|disc_number|duration_ms|explicit|track_number|track_popularity|            track_id|          track_name|audio_features.danceability|audio_features.energy|audio_features.key|audio_features.loudness|audio_features.mode|audio_features.speechiness|audio_features.acousticness|audio_features.instrumentalness|audio_features.liveness|audio_features.valence|audio_features.tempo|   audio_features.id|audio_features.time_signature|         artist_id| artist_name|artist_popularity|            album_id|          album_name|album_release_date|album_total_tracks|\n",
      "+-----------+-----------+--------+------------+----------------+--------------------+--------------------+---------------------------+---------------------+------------------+-----------------------+-------------------+--------------------------+---------------------------+-------------------------------+-----------------------+----------------------+--------------------+--------------------+-----------------------------+------------------+------------+-----------------+--------------------+--------------------+------------------+------------------+\n",
      "|          1|     212600|   False|           1|              77|4WUepByoeqcedHoYh...|Welcome To New Yo...|                      0.757|                 0.61|               7.0|                  -4.84|                  1|                    0.0327|                    0.00942|                       3.66e-05|                  0.367|                 0.685|             116.998|4WUepByoeqcedHoYh...|                          4.0|06HL4z0CvFAxyc27GX|Taylor Swift|              120|1o59UpKw81iHR0HPi...|1989 (Taylor's Ve...|        2023-10-27|                22|\n",
      "|          1|     231833|   False|           2|              78|0108kcWLnn2HlH2ke...|Blank Space (Tayl...|                      0.733|                0.733|               0.0|                 -5.376|                  1|                     0.067|                        5.0|                              0|                  0.168|                 0.701|              96.057|0108kcWLnn2HlH2ke...|                          4.0|06HL4z0CvFAxyc27GX|Taylor Swift|              120|1o59UpKw81iHR0HPi...|1989 (Taylor's Ve...|        2023-10-27|                22|\n",
      "|          1|     231000|   False|           3|              79|3Vpk1hfMAQme8VJ0S...|Style (Taylor's V...|                      0.511|                0.822|              11.0|                 -4.785|                  0|                    0.0397|                    4.21E-4|                         0.0197|                 0.0899|                 0.305|              94.868|3Vpk1hfMAQme8VJ0S...|                          4.0|06HL4z0CvFAxyc27GX|Taylor Swift|              120|1o59UpKw81iHR0HPi...|1989 (Taylor's Ve...|        2023-10-27|                22|\n",
      "|          1|     235800|   False|           4|              78|1OcSfkeCg9hRC2sFK...|Out Of The Woods ...|                      0.545|                0.885|               0.0|                 -5.968|                  1|                    0.0447|                   -5.37E-4|                       5.59e-05|                  0.385|                 0.206|              92.021|1OcSfkeCg9hRC2sFK...|                          4.0|06HL4z0CvFAxyc27GX|Taylor Swift|              120|1o59UpKw81iHR0HPi...|1989 (Taylor's Ve...|        2023-10-27|                22|\n",
      "|          1|     193289|   False|           5|              77|2k0ZEeAqzvYMcx9Qt...|All You Had To Do...|                      0.588|                0.721|               0.0|                 -5.579|                  1|                    0.0317|                    6.56E-4|                              0|                  0.131|                  0.52|              96.997|2k0ZEeAqzvYMcx9Qt...|                          4.0|06HL4z0CvFAxyc27GX|Taylor Swift|              120|1o59UpKw81iHR0HPi...|1989 (Taylor's Ve...|        2023-10-27|                22|\n",
      "+-----------+-----------+--------+------------+----------------+--------------------+--------------------+---------------------------+---------------------+------------------+-----------------------+-------------------+--------------------------+---------------------------+-------------------------------+-----------------------+----------------------+--------------------+--------------------+-----------------------------+------------------+------------+-----------------+--------------------+--------------------+------------------+------------------+\n",
      "only showing top 5 rows\n",
      "\n"
     ]
    }
   ],
   "source": [
    "path = \"dataset.csv\"\n",
    "df = spark.read.csv(path,header=True,sep=',', inferSchema=\"True\")\n",
    "df.show(5)"
   ]
  },
  {
   "cell_type": "markdown",
   "metadata": {},
   "source": [
    "### Lo primero es entender la base que estamos procesando \n",
    "\n",
    "### Tenemos una base de albunes con sus canciones de Taylor Swift asi mismo validamos las columnas donde se encuentran variables como que tan bailable puede ser, su energia , presencia de ruido , o palabras entre otros"
   ]
  },
  {
   "cell_type": "code",
   "execution_count": 4,
   "metadata": {},
   "outputs": [
    {
     "name": "stdout",
     "output_type": "stream",
     "text": [
      "root\n",
      " |-- disc_number: integer (nullable = true)\n",
      " |-- duration_ms: integer (nullable = true)\n",
      " |-- explicit: string (nullable = true)\n",
      " |-- track_number: integer (nullable = true)\n",
      " |-- track_popularity: integer (nullable = true)\n",
      " |-- track_id: string (nullable = true)\n",
      " |-- track_name: string (nullable = true)\n",
      " |-- audio_features.danceability: double (nullable = true)\n",
      " |-- audio_features.energy: double (nullable = true)\n",
      " |-- audio_features.key: double (nullable = true)\n",
      " |-- audio_features.loudness: double (nullable = true)\n",
      " |-- audio_features.mode: integer (nullable = true)\n",
      " |-- audio_features.speechiness: double (nullable = true)\n",
      " |-- audio_features.acousticness: double (nullable = true)\n",
      " |-- audio_features.instrumentalness: string (nullable = true)\n",
      " |-- audio_features.liveness: double (nullable = true)\n",
      " |-- audio_features.valence: double (nullable = true)\n",
      " |-- audio_features.tempo: double (nullable = true)\n",
      " |-- audio_features.id: string (nullable = true)\n",
      " |-- audio_features.time_signature: double (nullable = true)\n",
      " |-- artist_id: string (nullable = true)\n",
      " |-- artist_name: string (nullable = true)\n",
      " |-- artist_popularity: integer (nullable = true)\n",
      " |-- album_id: string (nullable = true)\n",
      " |-- album_name: string (nullable = true)\n",
      " |-- album_release_date: date (nullable = true)\n",
      " |-- album_total_tracks: string (nullable = true)\n",
      "\n"
     ]
    }
   ],
   "source": [
    "df.printSchema()"
   ]
  },
  {
   "cell_type": "markdown",
   "metadata": {},
   "source": [
    "### Comprobamos los tipos de cada columna que esten acorde a su significado dado que esto puede afectar para un modelado cuando una columna no tenga el topo correcto\n",
    "\n",
    "### en este caso vemos las columnas album_total_tracks y audio_features.instrumentalness: estan en un formato string , cuando deberia tener un formato integer y double respectivamente\n",
    "\n",
    "### para el caso de audio_features.mode este debneria ser un boleano dado que toma solo valores de \"0\" y 1"
   ]
  },
  {
   "cell_type": "markdown",
   "metadata": {},
   "source": [
    "## Valores nulos"
   ]
  },
  {
   "cell_type": "markdown",
   "metadata": {},
   "source": [
    "### Como tenemos nombres de columnas con \".\", reemplazamos esto por \"_\" para poder hacer el  conteo de los nulos por columnas y no tener conflictos en pyspark"
   ]
  },
  {
   "cell_type": "code",
   "execution_count": 73,
   "metadata": {},
   "outputs": [
    {
     "name": "stdout",
     "output_type": "stream",
     "text": [
      "+-----------+-----------+--------+------------+----------------+--------------------+--------------------+---------------------------+---------------------+------------------+-----------------------+-------------------+--------------------------+---------------------------+-------------------------------+-----------------------+----------------------+--------------------+--------------------+-----------------------------+------------------+------------+-----------------+--------------------+--------------------+------------------+------------------+\n",
      "|disc_number|duration_ms|explicit|track_number|track_popularity|            track_id|          track_name|audio_features_danceability|audio_features_energy|audio_features_key|audio_features_loudness|audio_features_mode|audio_features_speechiness|audio_features_acousticness|audio_features_instrumentalness|audio_features_liveness|audio_features_valence|audio_features_tempo|   audio_features_id|audio_features_time_signature|         artist_id| artist_name|artist_popularity|            album_id|          album_name|album_release_date|album_total_tracks|\n",
      "+-----------+-----------+--------+------------+----------------+--------------------+--------------------+---------------------------+---------------------+------------------+-----------------------+-------------------+--------------------------+---------------------------+-------------------------------+-----------------------+----------------------+--------------------+--------------------+-----------------------------+------------------+------------+-----------------+--------------------+--------------------+------------------+------------------+\n",
      "|          1|     212600|   False|           1|              77|4WUepByoeqcedHoYh...|Welcome To New Yo...|                      0.757|                 0.61|               7.0|                  -4.84|                  1|                    0.0327|                    0.00942|                       3.66e-05|                  0.367|                 0.685|             116.998|4WUepByoeqcedHoYh...|                          4.0|06HL4z0CvFAxyc27GX|Taylor Swift|              120|1o59UpKw81iHR0HPi...|1989 (Taylor's Ve...|        2023-10-27|                22|\n",
      "|          1|     231833|   False|           2|              78|0108kcWLnn2HlH2ke...|Blank Space (Tayl...|                      0.733|                0.733|               0.0|                 -5.376|                  1|                     0.067|                        5.0|                              0|                  0.168|                 0.701|              96.057|0108kcWLnn2HlH2ke...|                          4.0|06HL4z0CvFAxyc27GX|Taylor Swift|              120|1o59UpKw81iHR0HPi...|1989 (Taylor's Ve...|        2023-10-27|                22|\n",
      "|          1|     231000|   False|           3|              79|3Vpk1hfMAQme8VJ0S...|Style (Taylor's V...|                      0.511|                0.822|              11.0|                 -4.785|                  0|                    0.0397|                    4.21E-4|                         0.0197|                 0.0899|                 0.305|              94.868|3Vpk1hfMAQme8VJ0S...|                          4.0|06HL4z0CvFAxyc27GX|Taylor Swift|              120|1o59UpKw81iHR0HPi...|1989 (Taylor's Ve...|        2023-10-27|                22|\n",
      "+-----------+-----------+--------+------------+----------------+--------------------+--------------------+---------------------------+---------------------+------------------+-----------------------+-------------------+--------------------------+---------------------------+-------------------------------+-----------------------+----------------------+--------------------+--------------------+-----------------------------+------------------+------------+-----------------+--------------------+--------------------+------------------+------------------+\n",
      "only showing top 3 rows\n",
      "\n"
     ]
    }
   ],
   "source": [
    "df1 = df.toDF(*[c.replace('.', '_') for c in df.columns])\n",
    "df1.show(3)"
   ]
  },
  {
   "cell_type": "code",
   "execution_count": 41,
   "metadata": {},
   "outputs": [
    {
     "name": "stdout",
     "output_type": "stream",
     "text": [
      "+-----------+-----------+--------+------------+----------------+--------+----------+---------------------------+---------------------+------------------+-----------------------+-------------------+--------------------------+---------------------------+-------------------------------+-----------------------+----------------------+--------------------+-----------------+-----------------------------+---------+-----------+-----------------+--------+----------+------------------+------------------+\n",
      "|disc_number|duration_ms|explicit|track_number|track_popularity|track_id|track_name|audio_features_danceability|audio_features_energy|audio_features_key|audio_features_loudness|audio_features_mode|audio_features_speechiness|audio_features_acousticness|audio_features_instrumentalness|audio_features_liveness|audio_features_valence|audio_features_tempo|audio_features_id|audio_features_time_signature|artist_id|artist_name|artist_popularity|album_id|album_name|album_release_date|album_total_tracks|\n",
      "+-----------+-----------+--------+------------+----------------+--------+----------+---------------------------+---------------------+------------------+-----------------------+-------------------+--------------------------+---------------------------+-------------------------------+-----------------------+----------------------+--------------------+-----------------+-----------------------------+---------+-----------+-----------------+--------+----------+------------------+------------------+\n",
      "|          0|          0|       0|           0|               0|       8|         7|                          2|                    2|                 1|                      2|                  0|                         1|                          1|                              0|                      1|                     0|                   1|                0|                            1|        0|          0|                0|       0|        62|                 0|                 0|\n",
      "+-----------+-----------+--------+------------+----------------+--------+----------+---------------------------+---------------------+------------------+-----------------------+-------------------+--------------------------+---------------------------+-------------------------------+-----------------------+----------------------+--------------------+-----------------+-----------------------------+---------+-----------+-----------------+--------+----------+------------------+------------------+\n",
      "\n"
     ]
    }
   ],
   "source": [
    "df1.select([count(when(col(k).isNull(),k)).alias(k) for k in df1.columns ]).show()"
   ]
  },
  {
   "cell_type": "markdown",
   "metadata": {},
   "source": [
    "### Observamos que donde tenemos mas datos faltanes es en el nombre del album"
   ]
  },
  {
   "cell_type": "markdown",
   "metadata": {},
   "source": [
    "## Resumen general"
   ]
  },
  {
   "cell_type": "code",
   "execution_count": 43,
   "metadata": {},
   "outputs": [
    {
     "name": "stdout",
     "output_type": "stream",
     "text": [
      "+-------+-------------------+------------------+--------+------------------+------------------+--------------------+--------------------+---------------------------+---------------------+------------------+-----------------------+-------------------+--------------------------+---------------------------+-------------------------------+-----------------------+----------------------+--------------------+--------------------+-----------------------------+------------------+------------+-----------------+--------------------+----------+------------------+\n",
      "|summary|        disc_number|       duration_ms|explicit|      track_number|  track_popularity|            track_id|          track_name|audio_features_danceability|audio_features_energy|audio_features_key|audio_features_loudness|audio_features_mode|audio_features_speechiness|audio_features_acousticness|audio_features_instrumentalness|audio_features_liveness|audio_features_valence|audio_features_tempo|   audio_features_id|audio_features_time_signature|         artist_id| artist_name|artist_popularity|            album_id|album_name|album_total_tracks|\n",
      "+-------+-------------------+------------------+--------+------------------+------------------+--------------------+--------------------+---------------------------+---------------------+------------------+-----------------------+-------------------+--------------------------+---------------------------+-------------------------------+-----------------------+----------------------+--------------------+--------------------+-----------------------------+------------------+------------+-----------------+--------------------+----------+------------------+\n",
      "|  count|                539|               539|     539|               539|               539|                 531|                 532|                        537|                  537|               538|                    537|                539|                       538|                        538|                            539|                    538|                   539|                 538|                 539|                          538|               539|         539|              539|                 539|       477|               539|\n",
      "|   mean| 1.0315398886827458| 236003.7254174397|    null|11.280148423005565| 62.91836734693877|                null|                22.0|         0.5872420856610804|   0.5730651769087528| 4.587360594795539|     -7.520638733705771| 0.9128014842300557|       0.05770947955390336|         0.3378062323420069|           0.003916661951672865|    0.16330780669144948|   0.39840983302411814|   122.3626394052045|                null|            3.986988847583643|              null|        null|            120.0|                null|    1989.0|22.948473282442748|\n",
      "| stddev|0.17493398591537432|55019.871010413415|    null| 7.965620550754272|22.498757014954524|                null|                 0.0|        0.11685756836933651|  0.19230860187725718|3.2460817383196265|     2.9331577979629126|0.28238781948339875|       0.07314583353803854|        0.39529207185408655|           0.032893664212446425|    0.14180032665381379|    0.1994087025814413|   30.48552203097421|                null|          0.19732343984594425|              null|        null|              0.0|                null|       0.0|  9.46601133073615|\n",
      "|    min|                  1|           -223093|   False|                 1|               -92|00vJzaoxM3Eja1doB...|\"\"\"Slut!\"\" (Taylo...|                      0.243|                0.118|               0.0|                -17.932|                  0|                    0.0231|                   -0.00354|                              0|                 0.0335|                0.0374|              68.097|00vJzaoxM3Eja1doB...|                          3.0|06HL4z0CvFAxyc27GX|Taylor Swift|              120|08CWGiv27MVQhYpuT...|      1989|                10|\n",
      "|    max|                  2|            613026|    True|                46|               152|7zcnlq38eqNWyUF6e...|‘tis the damn season|                      0.897|                0.949|              11.0|                 -1.909|                  1|                     0.912|                        5.0|                        9.9e-05|                  0.931|                 0.943|             208.918|7zcnlq38eqNWyUF6e...|                          5.0|06HL4z0CvFAxyc27GX|Taylor Swift|              120|6kZ42qRrzov54LcAk...|reputation|          Thirteen|\n",
      "+-------+-------------------+------------------+--------+------------------+------------------+--------------------+--------------------+---------------------------+---------------------+------------------+-----------------------+-------------------+--------------------------+---------------------------+-------------------------------+-----------------------+----------------------+--------------------+--------------------+-----------------------------+------------------+------------+-----------------+--------------------+----------+------------------+\n",
      "\n"
     ]
    }
   ],
   "source": [
    "df1.describe().show()"
   ]
  },
  {
   "cell_type": "markdown",
   "metadata": {},
   "source": [
    "### Podemos ver inconsistencia en duration_ms en donde tenemos valores minimos negativos, asi como en la variable audio_features_acousticness"
   ]
  },
  {
   "cell_type": "markdown",
   "metadata": {},
   "source": [
    "## Valores duplicados"
   ]
  },
  {
   "cell_type": "code",
   "execution_count": 46,
   "metadata": {},
   "outputs": [
    {
     "name": "stdout",
     "output_type": "stream",
     "text": [
      "+-----------+-----------+--------+------------+----------------+--------------------+--------------------+---------------------------+---------------------+------------------+-----------------------+-------------------+--------------------------+---------------------------+-------------------------------+-----------------------+----------------------+--------------------+--------------------+-----------------------------+------------------+------------+-----------------+--------------------+--------------------+------------------+------------------+-----+\n",
      "|disc_number|duration_ms|explicit|track_number|track_popularity|            track_id|          track_name|audio_features_danceability|audio_features_energy|audio_features_key|audio_features_loudness|audio_features_mode|audio_features_speechiness|audio_features_acousticness|audio_features_instrumentalness|audio_features_liveness|audio_features_valence|audio_features_tempo|   audio_features_id|audio_features_time_signature|         artist_id| artist_name|artist_popularity|            album_id|          album_name|album_release_date|album_total_tracks|count|\n",
      "+-----------+-----------+--------+------------+----------------+--------------------+--------------------+---------------------------+---------------------+------------------+-----------------------+-------------------+--------------------------+---------------------------+-------------------------------+-----------------------+----------------------+--------------------+--------------------+-----------------------------+------------------+------------+-----------------+--------------------+--------------------+------------------+------------------+-----+\n",
      "|          1|     173386|   False|           6|              78|2YWtcWi3a83pdEg3G...|    I Think He Knows|                      0.897|                0.366|               0.0|                 -8.029|                  1|                    0.0569|                    0.00889|                       0.000353|                 0.0715|                 0.416|             100.003|2YWtcWi3a83pdEg3G...|                          4.0|06HL4z0CvFAxyc27GX|Taylor Swift|              120|1NAmidJlEaVgA3Mpc...|               Lover|        2019-08-23|                18|    2|\n",
      "|          1|     193000|   False|          16|              80|2Rk4JlNc2TPmZe2af...|ME! (feat. Brendo...|                       0.61|                 0.83|               0.0|                 -4.105|                  1|                    0.0571|                      0.033|                              0|                  0.118|                 0.728|             182.162|2Rk4JlNc2TPmZe2af...|                          4.0|06HL4z0CvFAxyc27GX|Taylor Swift|              120|1NAmidJlEaVgA3Mpc...|               Lover|        2019-08-23|                18|    2|\n",
      "|          1|     171360|   False|          14|              84|6RRNNciQGZEXnqk8S...|You Need To Calm ...|                      0.771|                0.671|               2.0|                 -5.617|                  1|                    0.0553|                    0.00929|                              0|                 0.0637|                 0.714|              85.026|6RRNNciQGZEXnqk8S...|                          4.0|06HL4z0CvFAxyc27GX|Taylor Swift|              120|1NAmidJlEaVgA3Mpc...|               Lover|        2019-08-23|                18|    2|\n",
      "|          1|     211240|   False|           5|              82|3pHkh7d0lzM2AldUt...|          The Archer|                      0.292|                0.574|               0.0|                 -9.375|                  1|                    0.0401|                       0.12|                        0.00569|                 0.0663|                 0.166|             124.344|3pHkh7d0lzM2AldUt...|                          4.0|06HL4z0CvFAxyc27GX|Taylor Swift|              120|1NAmidJlEaVgA3Mpc...|               Lover|        2019-08-23|                18|    2|\n",
      "|          1|     198533|   False|          10|              79|2dgFqt3w9xIQRjhPt...|Death By A Thousa...|                      0.712|                0.732|               4.0|                 -6.754|                  1|                    0.0629|                      0.454|                              0|                  0.319|                 0.313|              94.071|2dgFqt3w9xIQRjhPt...|                          4.0|06HL4z0CvFAxyc27GX|Taylor Swift|              120|1NAmidJlEaVgA3Mpc...|               Lover|        2019-08-23|                18|    2|\n",
      "|          1|     223293|   False|          15|              82|1SymEzIT3H8UZfibC...|           Afterglow|                      0.756|                0.449|               9.0|                 -8.746|                  1|                    0.0344|                       0.13|                              0|                  0.114|                 0.399|             111.011|1SymEzIT3H8UZfibC...|                          4.0|06HL4z0CvFAxyc27GX|Taylor Swift|              120|1NAmidJlEaVgA3Mpc...|               Lover|        2019-08-23|                18|    2|\n",
      "|          1|     234466|    True|          21|              82|3xYJScVfxByb61dYH...|      Hits Different|                      0.672|                0.782|               5.0|                 -6.499|                  1|                    0.0421|                      0.148|                       4.73e-06|                  0.296|                 0.239|             106.026|3xYJScVfxByb61dYH...|                          4.0|06HL4z0CvFAxyc27GX|Taylor Swift|              120|1fnJ7k0bllNfL1kVd...|Midnights (The Ti...|        2027-05-26|                24|    2|\n",
      "|          1|     221306|   False|           3|              92|1dGr1c8CrMLDpV6mP...|               Lover|                      0.359|                0.543|               7.0|                 -7.582|                  1|                    0.0919|                      0.492|                       1.58e-05|                  0.118|                 0.453|              68.534|1dGr1c8CrMLDpV6mP...|                          4.0|06HL4z0CvFAxyc27GX|Taylor Swift|              120|1NAmidJlEaVgA3Mpc...|               Lover|        2019-08-23|                18|    2|\n",
      "|          1|     293453|   False|          18|              85|1fzAuUVbzlhZ1lJAx...|            Daylight|                      0.557|                0.496|               0.0|                 -9.602|                  1|                    0.0563|                      0.808|                       0.000173|                 0.0772|                 0.265|             149.983|1fzAuUVbzlhZ1lJAx...|                          4.0|06HL4z0CvFAxyc27GX|Taylor Swift|              120|1NAmidJlEaVgA3Mpc...|               Lover|        2019-08-23|                18|    2|\n",
      "|          1|     190360|   False|           4|              86|3RauEVgRgj1IuWdJ9...|             The Man|                      0.777|                0.658|               0.0|                 -5.191|                  1|                     0.054|                     0.0767|                              0|                 0.0901|                 0.633|             110.048|3RauEVgRgj1IuWdJ9...|                          4.0|06HL4z0CvFAxyc27GX|Taylor Swift|              120|1NAmidJlEaVgA3Mpc...|               Lover|        2019-08-23|                18|    2|\n",
      "|          1|     287266|   False|           9|              81|12M5uqx0ZuwkpLp5r...|     Cornelia Street|                      0.824|                0.624|               0.0|                 -9.728|                  1|                    0.0827|                      0.781|                       0.000189|                    0.1|                 0.248|             102.012|12M5uqx0ZuwkpLp5r...|                          4.0|06HL4z0CvFAxyc27GX|Taylor Swift|              120|1NAmidJlEaVgA3Mpc...|               Lover|        2019-08-23|                18|    2|\n",
      "|          1|     170640|   False|           1|              77|43rA71bccXFGD4C8G...|I Forgot That You...|                      0.664|                0.316|               5.0|                -10.345|                  1|                     0.519|                      0.298|                       2.03e-06|                 0.0812|                 0.541|              92.875|43rA71bccXFGD4C8G...|                          4.0|06HL4z0CvFAxyc27GX|Taylor Swift|              120|1NAmidJlEaVgA3Mpc...|               Lover|        2019-08-23|                18|    2|\n",
      "|          1|     200306|   False|          13|              78|5hQSXkFgbxjZo9uCw...|           False God|                      0.739|                 0.32|              11.0|                -10.862|                  0|                     0.239|                      0.736|                       0.000147|                  0.111|                 0.351|               79.97|5hQSXkFgbxjZo9uCw...|                          4.0|06HL4z0CvFAxyc27GX|Taylor Swift|              120|1NAmidJlEaVgA3Mpc...|               Lover|        2019-08-23|                18|    2|\n",
      "|          1|     150440|   False|          17|              72|1SmiQ65iSAbPto6gP...|It’s Nice To Have...|                      0.737|                0.175|              10.0|                 -9.912|                  1|                    0.0401|                      0.971|                       0.000337|                  0.171|                 0.545|              70.008|1SmiQ65iSAbPto6gP...|                          4.0|06HL4z0CvFAxyc27GX|Taylor Swift|              120|1NAmidJlEaVgA3Mpc...|               Lover|        2019-08-23|                18|    2|\n",
      "|          1|     201586|   False|          12|              72|4AYtqFyFbX0Xkc2wt...|Soon You’ll Get B...|                      0.433|                0.182|               0.0|                -12.566|                  1|                    0.0641|                      0.907|                              0|                  0.123|                 0.421|             207.476|4AYtqFyFbX0Xkc2wt...|                          4.0|06HL4z0CvFAxyc27GX|Taylor Swift|              120|1NAmidJlEaVgA3Mpc...|               Lover|        2019-08-23|                18|    2|\n",
      "|          1|     234146|   False|           7|              83|214nt20w5wOxJnY46...|Miss Americana & ...|                      0.662|                0.747|              11.0|                 -6.926|                  0|                    0.0736|                      0.028|                        0.00615|                  0.138|                 0.487|             150.088|214nt20w5wOxJnY46...|                          4.0|06HL4z0CvFAxyc27GX|Taylor Swift|              120|1NAmidJlEaVgA3Mpc...|               Lover|        2019-08-23|                18|    2|\n",
      "|          1|     190240|   False|          11|              80|1LLXZFeAHK9R4xUra...|          London Boy|                      0.695|                 0.71|               1.0|                 -6.639|                  1|                      0.05|                     0.0246|                       0.000104|                  0.133|                 0.557|             157.925|1LLXZFeAHK9R4xUra...|                          4.0|06HL4z0CvFAxyc27GX|Taylor Swift|              120|1NAmidJlEaVgA3Mpc...|               Lover|        2019-08-23|                18|    2|\n",
      "|          1|     222400|   False|           8|              86|4y5bvROuBDPr5fuwX...|         Paper Rings|                      0.811|                0.719|               9.0|                 -6.553|                  1|                    0.0497|                     0.0129|                       1.36e-05|                 0.0742|                 0.865|             103.979|4y5bvROuBDPr5fuwX...|                          4.0|06HL4z0CvFAxyc27GX|Taylor Swift|              120|1NAmidJlEaVgA3Mpc...|               Lover|        2019-08-23|                18|    2|\n",
      "+-----------+-----------+--------+------------+----------------+--------------------+--------------------+---------------------------+---------------------+------------------+-----------------------+-------------------+--------------------------+---------------------------+-------------------------------+-----------------------+----------------------+--------------------+--------------------+-----------------------------+------------------+------------+-----------------+--------------------+--------------------+------------------+------------------+-----+\n",
      "\n"
     ]
    },
    {
     "data": {
      "text/plain": [
       "18"
      ]
     },
     "execution_count": 46,
     "metadata": {},
     "output_type": "execute_result"
    }
   ],
   "source": [
    "duplicates = df1.groupBy(*df1.columns).count().filter(col(\"count\") > 1)\n",
    "duplicates.show()\n",
    "duplicates.count()"
   ]
  },
  {
   "cell_type": "markdown",
   "metadata": {},
   "source": [
    "### Aca podemos observar que tenemos 18 filas duplicadas , los cuales contienen los mismo registros para todas las columnas"
   ]
  },
  {
   "cell_type": "markdown",
   "metadata": {},
   "source": [
    "## Alternativa grafica"
   ]
  },
  {
   "cell_type": "code",
   "execution_count": 64,
   "metadata": {},
   "outputs": [],
   "source": [
    "import pandas as pd\n",
    "import matplotlib.pyplot  as plt\n",
    "import seaborn as sns"
   ]
  },
  {
   "cell_type": "code",
   "execution_count": 75,
   "metadata": {},
   "outputs": [],
   "source": [
    "pandas_df = df1.toPandas()"
   ]
  },
  {
   "cell_type": "markdown",
   "metadata": {},
   "source": [
    "### Mediante un boxplot podemos ver tambien que valores atipicos tienen las variables , con respecto a la media y la sd, esto nos da una mayor visual parakl  poder ir revisando la calidad de la data"
   ]
  },
  {
   "cell_type": "code",
   "execution_count": 77,
   "metadata": {},
   "outputs": [
    {
     "data": {
      "image/png": "[encoded data removed]",
      "text/plain": [
       "<Figure size 640x480 with 1 Axes>"
      ]
     },
     "metadata": {},
     "output_type": "display_data"
    }
   ],
   "source": [
    "sns.boxplot(x='audio_features_danceability', data=pandas_df)\n",
    "plt.show()"
   ]
  },
  {
   "cell_type": "code",
   "execution_count": 79,
   "metadata": {},
   "outputs": [
    {
     "data": {
      "image/png": "[encoded data removed]",
      "text/plain": [
       "<Figure size 640x480 with 1 Axes>"
      ]
     },
     "metadata": {},
     "output_type": "display_data"
    }
   ],
   "source": [
    "sns.boxplot(x='audio_features_loudness', data=pandas_df)\n",
    "plt.show()"
   ]
  },
  {
   "cell_type": "code",
   "execution_count": 80,
   "metadata": {},
   "outputs": [
    {
     "data": {
      "image/png": "[encoded data removed]",
      "text/plain": [
       "<Figure size 640x480 with 1 Axes>"
      ]
     },
     "metadata": {},
     "output_type": "display_data"
    }
   ],
   "source": [
    "sns.boxplot(x='audio_features_tempo', data=pandas_df)\n",
    "plt.show()"
   ]
  }
 ],
 "metadata": {
  "kernelspec": {
   "display_name": "Python 3",
   "language": "python",
   "name": "python3"
  },
  "language_info": {
   "codemirror_mode": {
    "name": "ipython",
    "version": 3
   },
   "file_extension": ".py",
   "mimetype": "text/x-python",
   "name": "python",
   "nbconvert_exporter": "python",
   "pygments_lexer": "ipython3",
   "version": "3.11.4"
  }
 },
 "nbformat": 4,
 "nbformat_minor": 2
}
